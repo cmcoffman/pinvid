{
 "cells": [
  {
   "cell_type": "markdown",
   "id": "3f3eb129",
   "metadata": {},
   "source": [
    "# Cribbed from:\n",
    "    https://pyimagesearch.com/2018/07/30/opencv-object-tracking/"
   ]
  },
  {
   "cell_type": "code",
   "execution_count": 1,
   "id": "2f51df0f-fefe-44e4-ac85-337cb3165eb0",
   "metadata": {},
   "outputs": [],
   "source": [
    "from imutils.video import VideoStream\n",
    "from imutils.video import FPS\n",
    "import argparse\n",
    "import imutils\n",
    "import time\n",
    "import cv2"
   ]
  },
  {
   "cell_type": "code",
   "execution_count": 2,
   "id": "6b5b2578-0655-486a-ad9c-89f688d599fb",
   "metadata": {},
   "outputs": [
    {
     "data": {
      "text/plain": [
       "_StoreAction(option_strings=['-v', '--video'], dest='video', nargs=None, const=None, default=None, type=<class 'str'>, choices=None, required=False, help='path to input video file', metavar=None)"
      ]
     },
     "execution_count": 2,
     "metadata": {},
     "output_type": "execute_result"
    },
    {
     "data": {
      "text/plain": [
       "_StoreAction(option_strings=['-t', '--tracker'], dest='tracker', nargs=None, const=None, default='kcf', type=<class 'str'>, choices=None, required=False, help='OpenCV object tracker type', metavar=None)"
      ]
     },
     "execution_count": 2,
     "metadata": {},
     "output_type": "execute_result"
    },
    {
     "name": "stderr",
     "output_type": "stream",
     "text": [
      "usage: ipykernel_launcher.py [-h] [-v VIDEO] [-t TRACKER]\n",
      "ipykernel_launcher.py: error: unrecognized arguments: --ip=127.0.0.1 --stdin=9003 --control=9001 --hb=9000 --Session.signature_scheme=\"hmac-sha256\" --Session.key=b\"30c0ef4e-177d-4056-b45f-edb6ef3b9cf0\" --shell=9002 --transport=\"tcp\" --iopub=9004 --f=/Users/clayton/Library/Jupyter/runtime/kernel-v2-40238QTOdQ7zUt8d.json\n"
     ]
    },
    {
     "ename": "SystemExit",
     "evalue": "2",
     "output_type": "error",
     "traceback": [
      "An exception has occurred, use %tb to see the full traceback.\n",
      "\u001b[0;31mSystemExit\u001b[0m\u001b[0;31m:\u001b[0m 2\n"
     ]
    },
    {
     "name": "stderr",
     "output_type": "stream",
     "text": [
      "/Users/clayton/miniconda3/envs/pinvid/lib/python3.11/site-packages/IPython/core/interactiveshell.py:3534: UserWarning: To exit: use 'exit', 'quit', or Ctrl-D.\n",
      "  warn(\"To exit: use 'exit', 'quit', or Ctrl-D.\", stacklevel=1)\n"
     ]
    }
   ],
   "source": [
    "# construct the argument parser and parse the arguments\n",
    "ap = argparse.ArgumentParser()\n",
    "ap.add_argument(\"-v\", \"--video\", type=str,\n",
    "\thelp=\"path to input video file\")\n",
    "ap.add_argument(\"-t\", \"--tracker\", type=str, default=\"kcf\",\n",
    "\thelp=\"OpenCV object tracker type\")\n",
    "args = vars(ap.parse_args())"
   ]
  },
  {
   "cell_type": "code",
   "execution_count": 3,
   "id": "00e1b340",
   "metadata": {},
   "outputs": [
    {
     "ename": "AttributeError",
     "evalue": "module 'cv2' has no attribute 'TrackerBoosting_create'",
     "output_type": "error",
     "traceback": [
      "\u001b[0;31m---------------------------------------------------------------------------\u001b[0m",
      "\u001b[0;31mAttributeError\u001b[0m                            Traceback (most recent call last)",
      "\u001b[1;32m/Users/clayton/Documents/GitHub/pinvid/pinball_tracker.ipynb Cell 4\u001b[0m line \u001b[0;36m1\n\u001b[1;32m      <a href='vscode-notebook-cell:/Users/clayton/Documents/GitHub/pinvid/pinball_tracker.ipynb#W3sZmlsZQ%3D%3D?line=5'>6</a>\u001b[0m \ttracker \u001b[39m=\u001b[39m cv2\u001b[39m.\u001b[39mTracker_create(args[\u001b[39m\"\u001b[39m\u001b[39mtracker\u001b[39m\u001b[39m\"\u001b[39m]\u001b[39m.\u001b[39mupper())\n\u001b[1;32m      <a href='vscode-notebook-cell:/Users/clayton/Documents/GitHub/pinvid/pinball_tracker.ipynb#W3sZmlsZQ%3D%3D?line=6'>7</a>\u001b[0m \u001b[39m# otherwise, for OpenCV 3.3 OR NEWER, we need to explicity call the\u001b[39;00m\n\u001b[1;32m      <a href='vscode-notebook-cell:/Users/clayton/Documents/GitHub/pinvid/pinball_tracker.ipynb#W3sZmlsZQ%3D%3D?line=7'>8</a>\u001b[0m \u001b[39m# approrpiate object tracker constructor:\u001b[39;00m\n\u001b[1;32m      <a href='vscode-notebook-cell:/Users/clayton/Documents/GitHub/pinvid/pinball_tracker.ipynb#W3sZmlsZQ%3D%3D?line=8'>9</a>\u001b[0m \u001b[39melse\u001b[39;00m:\n\u001b[1;32m     <a href='vscode-notebook-cell:/Users/clayton/Documents/GitHub/pinvid/pinball_tracker.ipynb#W3sZmlsZQ%3D%3D?line=9'>10</a>\u001b[0m \t\u001b[39m# initialize a dictionary that maps strings to their corresponding\u001b[39;00m\n\u001b[1;32m     <a href='vscode-notebook-cell:/Users/clayton/Documents/GitHub/pinvid/pinball_tracker.ipynb#W3sZmlsZQ%3D%3D?line=10'>11</a>\u001b[0m \t\u001b[39m# OpenCV object tracker implementations\u001b[39;00m\n\u001b[1;32m     <a href='vscode-notebook-cell:/Users/clayton/Documents/GitHub/pinvid/pinball_tracker.ipynb#W3sZmlsZQ%3D%3D?line=11'>12</a>\u001b[0m \tOPENCV_OBJECT_TRACKERS \u001b[39m=\u001b[39m {\n\u001b[1;32m     <a href='vscode-notebook-cell:/Users/clayton/Documents/GitHub/pinvid/pinball_tracker.ipynb#W3sZmlsZQ%3D%3D?line=12'>13</a>\u001b[0m \t\t\u001b[39m\"\u001b[39m\u001b[39mcsrt\u001b[39m\u001b[39m\"\u001b[39m: cv2\u001b[39m.\u001b[39mTrackerCSRT_create,\n\u001b[1;32m     <a href='vscode-notebook-cell:/Users/clayton/Documents/GitHub/pinvid/pinball_tracker.ipynb#W3sZmlsZQ%3D%3D?line=13'>14</a>\u001b[0m \t\t\u001b[39m\"\u001b[39m\u001b[39mkcf\u001b[39m\u001b[39m\"\u001b[39m: cv2\u001b[39m.\u001b[39mTrackerKCF_create,\n\u001b[0;32m---> <a href='vscode-notebook-cell:/Users/clayton/Documents/GitHub/pinvid/pinball_tracker.ipynb#W3sZmlsZQ%3D%3D?line=14'>15</a>\u001b[0m \t\t\u001b[39m\"\u001b[39m\u001b[39mboosting\u001b[39m\u001b[39m\"\u001b[39m: cv2\u001b[39m.\u001b[39;49mTrackerBoosting_create,\n\u001b[1;32m     <a href='vscode-notebook-cell:/Users/clayton/Documents/GitHub/pinvid/pinball_tracker.ipynb#W3sZmlsZQ%3D%3D?line=15'>16</a>\u001b[0m \t\t\u001b[39m\"\u001b[39m\u001b[39mmil\u001b[39m\u001b[39m\"\u001b[39m: cv2\u001b[39m.\u001b[39mTrackerMIL_create,\n\u001b[1;32m     <a href='vscode-notebook-cell:/Users/clayton/Documents/GitHub/pinvid/pinball_tracker.ipynb#W3sZmlsZQ%3D%3D?line=16'>17</a>\u001b[0m \t\t\u001b[39m\"\u001b[39m\u001b[39mtld\u001b[39m\u001b[39m\"\u001b[39m: cv2\u001b[39m.\u001b[39mTrackerTLD_create,\n\u001b[1;32m     <a href='vscode-notebook-cell:/Users/clayton/Documents/GitHub/pinvid/pinball_tracker.ipynb#W3sZmlsZQ%3D%3D?line=17'>18</a>\u001b[0m \t\t\u001b[39m\"\u001b[39m\u001b[39mmedianflow\u001b[39m\u001b[39m\"\u001b[39m: cv2\u001b[39m.\u001b[39mTrackerMedianFlow_create,\n\u001b[1;32m     <a href='vscode-notebook-cell:/Users/clayton/Documents/GitHub/pinvid/pinball_tracker.ipynb#W3sZmlsZQ%3D%3D?line=18'>19</a>\u001b[0m \t\t\u001b[39m\"\u001b[39m\u001b[39mmosse\u001b[39m\u001b[39m\"\u001b[39m: cv2\u001b[39m.\u001b[39mTrackerMOSSE_create\n\u001b[1;32m     <a href='vscode-notebook-cell:/Users/clayton/Documents/GitHub/pinvid/pinball_tracker.ipynb#W3sZmlsZQ%3D%3D?line=19'>20</a>\u001b[0m \t}\n\u001b[1;32m     <a href='vscode-notebook-cell:/Users/clayton/Documents/GitHub/pinvid/pinball_tracker.ipynb#W3sZmlsZQ%3D%3D?line=20'>21</a>\u001b[0m \t\u001b[39m# grab the appropriate object tracker using our dictionary of\u001b[39;00m\n\u001b[1;32m     <a href='vscode-notebook-cell:/Users/clayton/Documents/GitHub/pinvid/pinball_tracker.ipynb#W3sZmlsZQ%3D%3D?line=21'>22</a>\u001b[0m \t\u001b[39m# OpenCV object tracker objects\u001b[39;00m\n\u001b[1;32m     <a href='vscode-notebook-cell:/Users/clayton/Documents/GitHub/pinvid/pinball_tracker.ipynb#W3sZmlsZQ%3D%3D?line=22'>23</a>\u001b[0m \ttracker \u001b[39m=\u001b[39m OPENCV_OBJECT_TRACKERS[args[\u001b[39m\"\u001b[39m\u001b[39mtracker\u001b[39m\u001b[39m\"\u001b[39m]]()\n",
      "\u001b[0;31mAttributeError\u001b[0m: module 'cv2' has no attribute 'TrackerBoosting_create'"
     ]
    }
   ],
   "source": [
    "# extract the OpenCV version info\n",
    "(major, minor) = cv2.__version__.split(\".\")[:2]\n",
    "# if we are using OpenCV 3.2 OR BEFORE, we can use a special factory\n",
    "# function to create our object tracker\n",
    "if int(major) == 3 and int(minor) < 3:\n",
    "\ttracker = cv2.Tracker_create(args[\"tracker\"].upper())\n",
    "# otherwise, for OpenCV 3.3 OR NEWER, we need to explicity call the\n",
    "# approrpiate object tracker constructor:\n",
    "else:\n",
    "\t# initialize a dictionary that maps strings to their corresponding\n",
    "\t# OpenCV object tracker implementations\n",
    "\tOPENCV_OBJECT_TRACKERS = {\n",
    "\t\t\"csrt\": cv2.TrackerCSRT_create,\n",
    "\t\t\"kcf\": cv2.TrackerKCF_create,\n",
    "\t\t\"boosting\": cv2.TrackerBoosting_create,\n",
    "\t\t\"mil\": cv2.TrackerMIL_create,\n",
    "\t\t\"tld\": cv2.TrackerTLD_create,\n",
    "\t\t\"medianflow\": cv2.TrackerMedianFlow_create,\n",
    "\t\t\"mosse\": cv2.TrackerMOSSE_create\n",
    "\t}\n",
    "\t# grab the appropriate object tracker using our dictionary of\n",
    "\t# OpenCV object tracker objects\n",
    "\ttracker = OPENCV_OBJECT_TRACKERS[args[\"tracker\"]]()\n",
    "# initialize the bounding box coordinates of the object we are going\n",
    "# to track\n",
    "initBB = None"
   ]
  },
  {
   "cell_type": "code",
   "execution_count": null,
   "id": "a7a292c7",
   "metadata": {},
   "outputs": [],
   "source": [
    "# if a video path was not supplied, grab the reference to the web cam\n",
    "if not args.get(\"video\", False):\n",
    "\tprint(\"[INFO] starting video stream...\")\n",
    "\tvs = VideoStream(src=0).start()\n",
    "\ttime.sleep(1.0)\n",
    "# otherwise, grab a reference to the video file\n",
    "else:\n",
    "\tvs = cv2.VideoCapture(args[\"video\"])\n",
    "# initialize the FPS throughput estimator\n",
    "fps = None"
   ]
  },
  {
   "cell_type": "code",
   "execution_count": null,
   "id": "4c1fb89a",
   "metadata": {},
   "outputs": [],
   "source": [
    "# loop over frames from the video stream\n",
    "while True:\n",
    "\t# grab the current frame, then handle if we are using a\n",
    "\t# VideoStream or VideoCapture object\n",
    "\tframe = vs.read()\n",
    "\tframe = frame[1] if args.get(\"video\", False) else frame\n",
    "\t# check to see if we have reached the end of the stream\n",
    "\tif frame is None:\n",
    "\t\tbreak\n",
    "\t# resize the frame (so we can process it faster) and grab the\n",
    "\t# frame dimensions\n",
    "\tframe = imutils.resize(frame, width=500)\n",
    "\t(H, W) = frame.shape[:2]"
   ]
  },
  {
   "cell_type": "code",
   "execution_count": null,
   "id": "af8da01d",
   "metadata": {},
   "outputs": [],
   "source": [
    "\t# check to see if we are currently tracking an object\n",
    "\tif initBB is not None:\n",
    "\t\t# grab the new bounding box coordinates of the object\n",
    "\t\t(success, box) = tracker.update(frame)\n",
    "\t\t# check to see if the tracking was a success\n",
    "\t\tif success:\n",
    "\t\t\t(x, y, w, h) = [int(v) for v in box]\n",
    "\t\t\tcv2.rectangle(frame, (x, y), (x + w, y + h),\n",
    "\t\t\t\t(0, 255, 0), 2)\n",
    "\t\t# update the FPS counter\n",
    "\t\tfps.update()\n",
    "\t\tfps.stop()\n",
    "\t\t# initialize the set of information we'll be displaying on\n",
    "\t\t# the frame\n",
    "\t\tinfo = [\n",
    "\t\t\t(\"Tracker\", args[\"tracker\"]),\n",
    "\t\t\t(\"Success\", \"Yes\" if success else \"No\"),\n",
    "\t\t\t(\"FPS\", \"{:.2f}\".format(fps.fps())),\n",
    "\t\t]\n",
    "\t\t# loop over the info tuples and draw them on our frame\n",
    "\t\tfor (i, (k, v)) in enumerate(info):\n",
    "\t\t\ttext = \"{}: {}\".format(k, v)\n",
    "\t\t\tcv2.putText(frame, text, (10, H - ((i * 20) + 20)),\n",
    "\t\t\t\tcv2.FONT_HERSHEY_SIMPLEX, 0.6, (0, 0, 255), 2)"
   ]
  },
  {
   "cell_type": "code",
   "execution_count": null,
   "id": "6bec986d",
   "metadata": {},
   "outputs": [],
   "source": [
    "\t# show the output frame\n",
    "\tcv2.imshow(\"Frame\", frame)\n",
    "\tkey = cv2.waitKey(1) & 0xFF\n",
    "\t# if the 's' key is selected, we are going to \"select\" a bounding\n",
    "\t# box to track\n",
    "\tif key == ord(\"s\"):\n",
    "\t\t# select the bounding box of the object we want to track (make\n",
    "\t\t# sure you press ENTER or SPACE after selecting the ROI)\n",
    "\t\tinitBB = cv2.selectROI(\"Frame\", frame, fromCenter=False,\n",
    "\t\t\tshowCrosshair=True)\n",
    "\t\t# start OpenCV object tracker using the supplied bounding box\n",
    "\t\t# coordinates, then start the FPS throughput estimator as well\n",
    "\t\ttracker.init(frame, initBB)\n",
    "\t\tfps = FPS().start()"
   ]
  },
  {
   "cell_type": "code",
   "execution_count": null,
   "id": "a1d62c02",
   "metadata": {},
   "outputs": [],
   "source": [
    "# if the `q` key was pressed, break from the loop\n",
    "\telif key == ord(\"q\"):\n",
    "\t\tbreak\n",
    "# if we are using a webcam, release the pointer\n",
    "if not args.get(\"video\", False):\n",
    "\tvs.stop()\n",
    "# otherwise, release the file pointer\n",
    "else:\n",
    "\tvs.release()\n",
    "# close all windows\n",
    "cv2.destroyAllWindows()"
   ]
  }
 ],
 "metadata": {
  "kernelspec": {
   "display_name": "pinvid",
   "language": "python",
   "name": "python3"
  },
  "language_info": {
   "codemirror_mode": {
    "name": "ipython",
    "version": 3
   },
   "file_extension": ".py",
   "mimetype": "text/x-python",
   "name": "python",
   "nbconvert_exporter": "python",
   "pygments_lexer": "ipython3",
   "version": "3.11.5"
  }
 },
 "nbformat": 4,
 "nbformat_minor": 5
}
