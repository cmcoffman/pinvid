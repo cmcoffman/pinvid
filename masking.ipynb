{
 "cells": [
  {
   "cell_type": "code",
   "execution_count": 25,
   "metadata": {},
   "outputs": [],
   "source": [
    "# https://docs.opencv.org/3.4/d5/dc4/tutorial_adding_images.html\n",
    "\n",
    "\n",
    "import numpy as np\n",
    "import cv2 as cv2"
   ]
  },
  {
   "cell_type": "code",
   "execution_count": 27,
   "metadata": {},
   "outputs": [],
   "source": [
    "# File\n",
    "vid_file = \"./video/cropped_trimmed.mp4\"\n"
   ]
  },
  {
   "cell_type": "code",
   "execution_count": 28,
   "metadata": {},
   "outputs": [],
   "source": [
    "# Output File\n",
    "# I need to get the size of the input file to initialize the output file writer,\n",
    "# to do this I have to capture one frame and analyze it.\n",
    "cap_temp = cv2.VideoCapture(vid_file)\n",
    "ret_temp, frame_temp = cap_temp.read()\t\n",
    "cap_temp.release()\n",
    "\n",
    "\n",
    "# from: https://learnopencv.com/read-write-and-display-a-video-using-opencv-cpp-python/\n",
    "# Define the codec and create VideoWriter object.The output is stored in 'outpy.avi' file.\n",
    "# Define the fps to be equal to 10. Also frame size is passed.\n",
    " \n",
    "out = cv2.VideoWriter('outpy.avi',cv2.VideoWriter_fourcc('M','J','P','G'), 10, (frame_temp.shape[1], frame_temp.shape[0]))\n",
    "\n"
   ]
  },
  {
   "cell_type": "code",
   "execution_count": 30,
   "metadata": {},
   "outputs": [
    {
     "name": "stdout",
     "output_type": "stream",
     "text": [
      "Can't receive frame (stream end?). Exiting ...\n"
     ]
    }
   ],
   "source": [
    "# Input Capture\n",
    "cap = cv2.VideoCapture(vid_file)\n",
    "# Initializing subtractor\n",
    "fgbg = cv2.bgsegm.createBackgroundSubtractorMOG()\n",
    "#fgbg = cv2.createBackgroundSubtractorMOG2()\n",
    "#fgbg = cv2.createBackgroundSubtractorKNN()\n",
    "#fgbg = cv2.bgsegm.createBackgroundSubtractorGMG()\n",
    "\n",
    "\n",
    "while(1):\n",
    "\tkey = cv2.waitKey(1) & 0xFF\n",
    "\tret, frame = cap.read()\t\n",
    "\n",
    "\t # if frame is read correctly ret is True\n",
    "\tif not ret:\n",
    "\t\tprint(\"Can't receive frame (stream end?). Exiting ...\")\n",
    "\t\tbreak\n",
    "\n",
    "\t# applying on each frame\n",
    "\tmask = fgbg.apply(frame)\n",
    "\t#print(frame.shape, fgmask.shape)\n",
    "\n",
    "\t# apply mask\n",
    "\tmasked = cv2.bitwise_and(frame, frame, mask=mask)\n",
    "\t\n",
    "\t# blend images\n",
    "\talpha = 0.5\n",
    "\tbeta = (1.0 - alpha)\n",
    "\tblended = cv2.addWeighted(frame, alpha, masked, beta, 0.0)\n",
    "\n",
    "\t# segment images\n",
    "\talpha = 0\n",
    "\tbeta = (1.0 - alpha)\n",
    "\tmasked = cv2.addWeighted(frame, alpha, masked, beta, 0.0)\n",
    "\n",
    "\n",
    "\t# Display result\n",
    "\tcv2.imshow('blend', blended)\n",
    "\tcv2.imshow('frame', frame)\n",
    "\tcv2.imshow('mask', mask)\n",
    "\tcv2.imshow('masked', masked)\n",
    "\n",
    "\t# save output\n",
    "\tout.write(masked)\n",
    "\n",
    "\t# check for keyboard interruqqpt\n",
    "\tk = cv2.waitKey(1) & 0xff\n",
    "\tif k == 27:\n",
    "\t\tbreak\n",
    "\telif key == ord(\"q\"):\n",
    "\t\tbreak\n",
    "\n",
    "\n",
    "cap.release()\n",
    "out.release()\n",
    "cv2.destroyAllWindows()\n"
   ]
  },
  {
   "cell_type": "code",
   "execution_count": 2,
   "metadata": {},
   "outputs": [
    {
     "ename": "KeyboardInterrupt",
     "evalue": "",
     "output_type": "error",
     "traceback": [
      "\u001b[0;31m---------------------------------------------------------------------------\u001b[0m",
      "\u001b[0;31mKeyboardInterrupt\u001b[0m                         Traceback (most recent call last)",
      "\u001b[1;32m/Users/clayton/Documents/GitHub/pinvid/masking.ipynb Cell 3\u001b[0m line \u001b[0;36m4\n\u001b[1;32m     <a href='vscode-notebook-cell:/Users/clayton/Documents/GitHub/pinvid/masking.ipynb#W2sZmlsZQ%3D%3D?line=45'>46</a>\u001b[0m img \u001b[39m=\u001b[39m cv\u001b[39m.\u001b[39madd(frame, mask)\n\u001b[1;32m     <a href='vscode-notebook-cell:/Users/clayton/Documents/GitHub/pinvid/masking.ipynb#W2sZmlsZQ%3D%3D?line=46'>47</a>\u001b[0m cv\u001b[39m.\u001b[39mimshow(\u001b[39m'\u001b[39m\u001b[39mframe\u001b[39m\u001b[39m'\u001b[39m, img)\n\u001b[0;32m---> <a href='vscode-notebook-cell:/Users/clayton/Documents/GitHub/pinvid/masking.ipynb#W2sZmlsZQ%3D%3D?line=47'>48</a>\u001b[0m k \u001b[39m=\u001b[39m cv\u001b[39m.\u001b[39;49mwaitKey(\u001b[39m30\u001b[39;49m) \u001b[39m&\u001b[39m \u001b[39m0xff\u001b[39m\n\u001b[1;32m     <a href='vscode-notebook-cell:/Users/clayton/Documents/GitHub/pinvid/masking.ipynb#W2sZmlsZQ%3D%3D?line=48'>49</a>\u001b[0m \u001b[39mif\u001b[39;00m k \u001b[39m==\u001b[39m \u001b[39m27\u001b[39m:\n\u001b[1;32m     <a href='vscode-notebook-cell:/Users/clayton/Documents/GitHub/pinvid/masking.ipynb#W2sZmlsZQ%3D%3D?line=49'>50</a>\u001b[0m     \u001b[39mbreak\u001b[39;00m\n",
      "\u001b[0;31mKeyboardInterrupt\u001b[0m: "
     ]
    }
   ],
   "source": [
    "# Optical flow from https://docs.opencv.org/4.x/d4/dee/tutorial_optical_flow.html\n",
    "import numpy as np\n",
    "import cv2 as cv\n",
    "#import argparse\n",
    "#parser = argparse.ArgumentParser(description='This sample demonstrates Lucas-Kanade Optical Flow calculation. \\\n",
    "# The example file can be downloaded from: \\\n",
    "# https://www.bogotobogo.com/python/OpenCV_Python/images/mean_shift_tracking/slow_traffic_small.mp4')\n",
    "#parser.add_argument('image', type=str, help='path to image file')\n",
    "#args = parser.parse_args()\n",
    "cap = cv2.VideoCapture(\"./video/cropped_trimmed.mp4\")\n",
    "# params for ShiTomasi corner detection\n",
    "feature_params = dict( maxCorners = 100,\n",
    " qualityLevel = 0.3,\n",
    " minDistance = 7,\n",
    " blockSize = 7 )\n",
    "# Parameters for lucas kanade optical flow\n",
    "lk_params = dict( winSize = (15, 15),\n",
    " maxLevel = 2,\n",
    " criteria = (cv.TERM_CRITERIA_EPS | cv.TERM_CRITERIA_COUNT, 10, 0.03))\n",
    "# Create some random colors\n",
    "color = np.random.randint(0, 255, (100, 3))\n",
    "# Take first frame and find corners in it\n",
    "ret, old_frame = cap.read()\n",
    "old_gray = cv.cvtColor(old_frame, cv.COLOR_BGR2GRAY)\n",
    "p0 = cv.goodFeaturesToTrack(old_gray, mask = None, **feature_params)\n",
    "# Create a mask image for drawing purposes\n",
    "mask = np.zeros_like(old_frame)\n",
    "while(1):\n",
    " ret, frame = cap.read()\n",
    " if not ret:\n",
    "    print('No frames grabbed!')\n",
    "    break\n",
    " frame_gray = cv.cvtColor(frame, cv.COLOR_BGR2GRAY)\n",
    " # calculate optical flow\n",
    " p1, st, err = cv.calcOpticalFlowPyrLK(old_gray, frame_gray, p0, None, **lk_params)\n",
    " # Select good points\n",
    " if p1 is not None:\n",
    "    good_new = p1[st==1]\n",
    "    good_old = p0[st==1]\n",
    " # draw the tracks\n",
    " for i, (new, old) in enumerate(zip(good_new, good_old)):\n",
    "    a, b = new.ravel()\n",
    "    c, d = old.ravel()\n",
    "    mask = cv.line(mask, (int(a), int(b)), (int(c), int(d)), color[i].tolist(), 2)\n",
    "    frame = cv.circle(frame, (int(a), int(b)), 5, color[i].tolist(), -1)\n",
    "    img = cv.add(frame, mask)\n",
    "    cv.imshow('frame', img)\n",
    "    k = cv.waitKey(30) & 0xff\n",
    "    if k == 27:\n",
    "        break\n",
    " # Now update the previous frame and previous points\n",
    " old_gray = frame_gray.copy()\n",
    " p0 = good_new.reshape(-1, 1, 2)\n",
    "cv.destroyAllWindows()"
   ]
  },
  {
   "cell_type": "code",
   "execution_count": 3,
   "metadata": {},
   "outputs": [
    {
     "ename": "KeyboardInterrupt",
     "evalue": "",
     "output_type": "error",
     "traceback": [
      "\u001b[0;31m---------------------------------------------------------------------------\u001b[0m",
      "\u001b[0;31mKeyboardInterrupt\u001b[0m                         Traceback (most recent call last)",
      "\u001b[1;32m/Users/clayton/Documents/GitHub/pinvid/masking.ipynb Cell 4\u001b[0m line \u001b[0;36m1\n\u001b[1;32m     <a href='vscode-notebook-cell:/Users/clayton/Documents/GitHub/pinvid/masking.ipynb#W3sZmlsZQ%3D%3D?line=12'>13</a>\u001b[0m    \u001b[39mbreak\u001b[39;00m\n\u001b[1;32m     <a href='vscode-notebook-cell:/Users/clayton/Documents/GitHub/pinvid/masking.ipynb#W3sZmlsZQ%3D%3D?line=13'>14</a>\u001b[0m \u001b[39mnext\u001b[39m \u001b[39m=\u001b[39m cv\u001b[39m.\u001b[39mcvtColor(frame2, cv\u001b[39m.\u001b[39mCOLOR_BGR2GRAY)\n\u001b[0;32m---> <a href='vscode-notebook-cell:/Users/clayton/Documents/GitHub/pinvid/masking.ipynb#W3sZmlsZQ%3D%3D?line=14'>15</a>\u001b[0m flow \u001b[39m=\u001b[39m cv\u001b[39m.\u001b[39;49mcalcOpticalFlowFarneback(prvs, \u001b[39mnext\u001b[39;49m, \u001b[39mNone\u001b[39;49;00m, \u001b[39m0.5\u001b[39;49m, \u001b[39m3\u001b[39;49m, \u001b[39m15\u001b[39;49m, \u001b[39m3\u001b[39;49m, \u001b[39m5\u001b[39;49m, \u001b[39m1.2\u001b[39;49m, \u001b[39m0\u001b[39;49m)\n\u001b[1;32m     <a href='vscode-notebook-cell:/Users/clayton/Documents/GitHub/pinvid/masking.ipynb#W3sZmlsZQ%3D%3D?line=15'>16</a>\u001b[0m mag, ang \u001b[39m=\u001b[39m cv\u001b[39m.\u001b[39mcartToPolar(flow[\u001b[39m.\u001b[39m\u001b[39m.\u001b[39m\u001b[39m.\u001b[39m, \u001b[39m0\u001b[39m], flow[\u001b[39m.\u001b[39m\u001b[39m.\u001b[39m\u001b[39m.\u001b[39m, \u001b[39m1\u001b[39m])\n\u001b[1;32m     <a href='vscode-notebook-cell:/Users/clayton/Documents/GitHub/pinvid/masking.ipynb#W3sZmlsZQ%3D%3D?line=16'>17</a>\u001b[0m hsv[\u001b[39m.\u001b[39m\u001b[39m.\u001b[39m\u001b[39m.\u001b[39m, \u001b[39m0\u001b[39m] \u001b[39m=\u001b[39m ang\u001b[39m*\u001b[39m\u001b[39m180\u001b[39m\u001b[39m/\u001b[39mnp\u001b[39m.\u001b[39mpi\u001b[39m/\u001b[39m\u001b[39m2\u001b[39m\n",
      "\u001b[0;31mKeyboardInterrupt\u001b[0m: "
     ]
    }
   ],
   "source": [
    "# Dense Optical flow from https://docs.opencv.org/4.x/d4/dee/tutorial_optical_flow.html\n",
    "import numpy as np\n",
    "import cv2 as cv\n",
    "cap = cv2.VideoCapture(\"./video/cropped_trimmed.mp4\")\n",
    "ret, frame1 = cap.read()\n",
    "prvs = cv.cvtColor(frame1, cv.COLOR_BGR2GRAY)\n",
    "hsv = np.zeros_like(frame1)\n",
    "hsv[..., 1] = 255\n",
    "while(1):\n",
    " ret, frame2 = cap.read()\n",
    " if not ret:\n",
    "    print('No frames grabbed!')\n",
    "    break\n",
    " next = cv.cvtColor(frame2, cv.COLOR_BGR2GRAY)\n",
    " flow = cv.calcOpticalFlowFarneback(prvs, next, None, 0.5, 3, 15, 3, 5, 1.2, 0)\n",
    " mag, ang = cv.cartToPolar(flow[..., 0], flow[..., 1])\n",
    " hsv[..., 0] = ang*180/np.pi/2\n",
    " hsv[..., 2] = cv.normalize(mag, None, 0, 255, cv.NORM_MINMAX)\n",
    " bgr = cv.cvtColor(hsv, cv.COLOR_HSV2BGR)\n",
    " cv.imshow('frame2', bgr)\n",
    " k = cv.waitKey(30) & 0xff\n",
    " if k == 27:\n",
    "    break\n",
    " elif k == ord('s'):\n",
    "    cv.imwrite('opticalfb.png', frame2)\n",
    "    cv.imwrite('opticalhsv.png', bgr)\n",
    " prvs = next\n",
    "cv.destroyAllWindows()"
   ]
  },
  {
   "cell_type": "code",
   "execution_count": null,
   "metadata": {},
   "outputs": [],
   "source": []
  }
 ],
 "metadata": {
  "kernelspec": {
   "display_name": "pinvid",
   "language": "python",
   "name": "python3"
  },
  "language_info": {
   "codemirror_mode": {
    "name": "ipython",
    "version": 3
   },
   "file_extension": ".py",
   "mimetype": "text/x-python",
   "name": "python",
   "nbconvert_exporter": "python",
   "pygments_lexer": "ipython3",
   "version": "3.11.5"
  },
  "orig_nbformat": 4
 },
 "nbformat": 4,
 "nbformat_minor": 2
}
